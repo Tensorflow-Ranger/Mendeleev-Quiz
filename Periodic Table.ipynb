{
 "cells": [
  {
   "cell_type": "code",
   "execution_count": 1,
   "metadata": {},
   "outputs": [],
   "source": [
    "import ipywidgets as widgets\n",
    "from IPython.display import HTML\n",
    "from ipywidgets import Layout, Button, Box\n",
    "from ipywidgets import Button, Layout, jslink,VBox,HBox\n",
    "from IPython.display import clear_output\n",
    "import mendeleev as md\n",
    "import random\n",
    "from mendeleev import element"
   ]
  },
  {
   "cell_type": "code",
   "execution_count": 2,
   "metadata": {},
   "outputs": [],
   "source": [
    "Layout10 = Layout(flex='1', width='500px',height=\"50px\",margin=\"10px 10px 20px 10px\")\n",
    "\n",
    "box_layout1 = Layout(display='flex',\n",
    "                    flex_flow='row',\n",
    "                    align_items='stretch',\n",
    "                    width='100%')\n",
    "\n",
    "box_layout = Layout(display='flex',\n",
    "                    flex_flow='column',\n",
    "                    align_items='stretch',\n",
    "                    border='solid',\n",
    "                    width='100%')\n",
    "form_item_layout = Layout(\n",
    "    display='flex',\n",
    "    flex_flow='row',\n",
    "    justify_content='center',\n",
    "    margin=\"10px 10px 20px 10px\",\n",
    "    width=\"100%\"\n",
    ")"
   ]
  },
  {
   "cell_type": "code",
   "execution_count": 59,
   "metadata": {},
   "outputs": [
    {
     "data": {
      "application/vnd.jupyter.widget-view+json": {
       "model_id": "28980d49d6a348e987a9d2866599519a",
       "version_major": 2,
       "version_minor": 0
      },
      "text/plain": [
       "VBox(children=(HBox(children=(HTML(value='<center><h2> Game Over!!Try Again </h2></center>'),), layout=Layout(…"
      ]
     },
     "metadata": {},
     "output_type": "display_data"
    }
   ],
   "source": [
    "atomic_number = random.randint(1,118)\n",
    "element_ = element(atomic_number)\n",
    "element_symbol = element_.symbol\n",
    "element_protons = element_.protons\n",
    "element_name = element_.name\n",
    "f=0\n",
    "global incorrect, f,atomic_number,element_,element_symbol,element_name,incorrect,inp\n",
    "incorrect = 0\n",
    "\n",
    "sub_text = widgets.HTML(('<center><h3>'+'Guess the the symbol of the element using the atomic number'+'</h3></center>'))\n",
    "sub_text1 = widgets.HTML(('<center><h3>'+'Atomic Number:'+'</h3></center>'))\n",
    "\n",
    "Horiz = widgets.HBox([sub_text],layout=Layout(justify_content='center'))\n",
    "Horiz1 = widgets.HBox([sub_text1],layout=Layout(justify_content='center'))\n",
    "\n",
    "Btn1 = Button(description='Submit',layout=Layout10, button_style='info')\n",
    "Btn2 = Button(description=\"Again\",layout=Layout10, button_style='info')\n",
    "Btn10 = Button(description='Go to home page',layout=Layout10, button_style='info')\n",
    "Btn11 = Button(description='Go to home page',layout=Layout10, button_style='info')\n",
    "Btn12 = Button(description='Go to home page',layout=Layout10, button_style='info')\n",
    "\n",
    "Btn1.style.button_color = 'DeepSkyBlue'\n",
    "Btn2.style.button_color = 'LightCoral'\n",
    "Btn10.style.button_color = 'DeepSkyBlue'\n",
    "Btn11.style.button_color = 'LightCoral'\n",
    "Btn12.style.button_color = 'LightCoral'\n",
    "\n",
    "\n",
    "Title = widgets.HTML(('<center><h2>'+'Mendeleev Quiz'+'</h2></center>'))\n",
    "\n",
    "def new_element(b):\n",
    "    global incorrect, f,atomic_number,element_,element_symbol,element_name,incorrect,inp\n",
    "    atomic_number = random.randint(1,118)\n",
    "    element_ = element(atomic_number)\n",
    "    element_symbol = element_.symbol\n",
    "    element_name = element_.name\n",
    "    atomic_number_display = widgets.HTML(('<center><h2>'+str(atomic_number)+'</h2></center>'))\n",
    "    Horizontal4 = widgets.HBox([atomic_number_display],layout=Layout(justify_content='center'))\n",
    "    Screen1 = widgets.VBox([right_box1,Horiz,Horiz1,Horizontal4,Horizontal3,Horizontal2,Horizontal],layout=box_layout)\n",
    "    clear_output()\n",
    "    display(Screen1)\n",
    "def input_check(inpu):\n",
    "    try:\n",
    "        si = element(inpu)\n",
    "    except:\n",
    "        return(\"False\")\n",
    "    else:\n",
    "        return(\"True\")\n",
    "def win(b):\n",
    "    global incorrect, f,atomic_number,element_,element_symbol,element_name,incorrect,inp\n",
    "    inp = Text_box10.value\n",
    "    real = input_check(inp)\n",
    "    if incorrect>5:\n",
    "        status_img = widgets.HTML('<img src=\"over.png\" height=\"500\" width=\"500\">')\n",
    "        answer = widgets.HTML(('<center><h2>'+\" Game Over!!Try Again \"+'</h2></center>'))\n",
    "        Loading_box = widgets.HBox([status_img],layout=Layout(justify_content='center'))\n",
    "        Loading_box_txt = widgets.HBox([answer],layout=Layout(justify_content='center'))\n",
    "        homepage1 = widgets.HBox([Btn12],layout=Layout(justify_content='center'))\n",
    "        Screen8 = VBox([Loading_box_txt,Loading_box,homepage1],layout=box_layout)\n",
    "        clear_output()\n",
    "        display(Screen8)\n",
    "        \n",
    "        \n",
    "    elif element_symbol == inp:\n",
    "        status_img = widgets.HTML('<img src=\"correct.png\" height=\"500\" width=\"500\">')\n",
    "        answer = widgets.HTML(('<center><h2>'+element_name+' Or '+element_symbol+\" is the \"+str(atomic_number)+\" element of the periodic table \"+'</h2></center>'))\n",
    "        Loading_box = widgets.HBox([status_img],layout=Layout(justify_content='center'))\n",
    "        Loading_box_txt = widgets.HBox([answer],layout=Layout(justify_content='center'))\n",
    "        homepage = widgets.HBox([Btn10],layout=Layout(justify_content='center'))\n",
    "        Screen7 = VBox([Loading_box_txt,Loading_box,homepage],layout=box_layout)\n",
    "        clear_output()\n",
    "        display(Screen7)\n",
    "        \n",
    "    elif real==\"True\" and element_symbol != inp:\n",
    "        status_img = widgets.HTML('<img src=\"correct.png\" height=\"500\" width=\"500\">')\n",
    "        answer = widgets.HTML(('<center><h2>'+element_name+' Or '+element_symbol+\" is the \"+str(atomic_number)+\" element of the periodic table \"+'</h2></center>'))\n",
    "        Loading_box = widgets.HBox([status_img],layout=Layout(justify_content='center'))\n",
    "        Loading_box_txt = widgets.HBox([answer],layout=Layout(justify_content='center'))\n",
    "        homepage = widgets.HBox([Btn10],layout=Layout(justify_content='center'))\n",
    "        Screen7 = VBox([Loading_box_txt,Loading_box,homepage],layout=box_layout)\n",
    "        clear_output()\n",
    "        display(Screen7)\n",
    "        \n",
    "    elif real==\"False\" and element_symbol != Text_box10.value:\n",
    "        f = 0\n",
    "        incorrect += 1\n",
    "        status_img = widgets.HTML('<img src=\"wrong.png\" height=\"500\" width=\"500\">')\n",
    "        answer = widgets.HTML(('<center><h2>'+element_name+\" or \"+element_symbol+\" is the \"+str(atomic_number)+\" element of the periodic table \"+'</h2></center>'))\n",
    "        hint = widgets.HTML(('<center><h2>'+\"Hint:The number of protons= \"+str(atomic_number)+'</h2></center>'))\n",
    "        error = widgets.HTML(('<center><h2>'+\" Given Input is not an element \"+'</h2></center>'))\n",
    "        Horizontal_box = widgets.HBox([status_img],layout=Layout(justify_content='center'))\n",
    "        Horizontal_txt = widgets.HBox([answer],layout=Layout(justify_content='center'))\n",
    "        Horizontal_hint = widgets.HBox([answer],layout=Layout(justify_content='center'))\n",
    "        Horizontal_error = widgets.HBox([error],layout=Layout(justify_content='center'))\n",
    "        homepage1 = widgets.HBox([Btn10],layout=Layout(justify_content='center'))\n",
    "        Screen7 = VBox([Horizontal_txt,Horizontal_error,hint,Horizontal_box,homepage1],layout=box_layout)\n",
    "        clear_output()\n",
    "        display(Screen7)\n",
    "        \n",
    "\n",
    "def home(b):\n",
    "    global incorrect, f,atomic_number,element_,element_symbol,element_name,incorrect,inp\n",
    "    atomic_number = random.randint(1,118)\n",
    "    element_ = element(atomic_number)\n",
    "    element_symbol = element_.symbol\n",
    "    element_name = element_.name\n",
    "    atomic_number_display = widgets.HTML(('<center><h2>'+str(atomic_number)+'</h2></center>'))\n",
    "    Horizontal4 = widgets.HBox([atomic_number_display],layout=Layout(justify_content='center'))\n",
    "    Screen1 = widgets.VBox([right_box1,Horiz,Horiz1,Horizontal4,Horizontal3,Horizontal2,Horizontal],layout=box_layout)\n",
    "    clear_output()\n",
    "    display(Screen1)\n",
    "\n",
    "def restart(b):\n",
    "    global incorrect\n",
    "    incorrect = 0\n",
    "    clear_output()\n",
    "    display(Screen1)\n",
    "\n",
    "atomic_number_display = widgets.HTML(('<center><h2>'+str(atomic_number)+'</h2></center>'))\n",
    "Text_box10 = widgets.Text(layout=form_item_layout)\n",
    "\n",
    "right_box1 = widgets.HBox([Title],layout=Layout(justify_content='center'))\n",
    "Horizontal = widgets.HBox([Btn2])\n",
    "Horizontal2 = widgets.HBox([Btn1])\n",
    "Horizontal3 = widgets.HBox([Text_box10])\n",
    "Horizontal4 = widgets.HBox([atomic_number_display],layout=Layout(justify_content='center'))\n",
    "Screen1 = widgets.VBox([right_box1,Horiz,Horiz1,Horizontal4,Horizontal3,Horizontal2,Horizontal],layout=box_layout)\n",
    "Btn2.on_click(new_element)\n",
    "Btn1.on_click(win)\n",
    "Btn11.on_click(home)\n",
    "Btn10.on_click(home)\n",
    "Btn12.on_click(restart)\n",
    "display(Screen1)"
   ]
  },
  {
   "cell_type": "markdown",
   "metadata": {},
   "source": [
    "# Check the answer "
   ]
  },
  {
   "cell_type": "code",
   "execution_count": 60,
   "metadata": {},
   "outputs": [
    {
     "name": "stdout",
     "output_type": "stream",
     "text": [
      "Cd\n"
     ]
    }
   ],
   "source": [
    "a = element(48)\n",
    "print(a.symbol)"
   ]
  }
 ],
 "metadata": {
  "kernelspec": {
   "display_name": "Python 3",
   "language": "python",
   "name": "python3"
  },
  "language_info": {
   "codemirror_mode": {
    "name": "ipython",
    "version": 3
   },
   "file_extension": ".py",
   "mimetype": "text/x-python",
   "name": "python",
   "nbconvert_exporter": "python",
   "pygments_lexer": "ipython3",
   "version": "3.5.6"
  }
 },
 "nbformat": 4,
 "nbformat_minor": 2
}
